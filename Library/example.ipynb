{
 "cells": [
  {
   "cell_type": "code",
   "execution_count": 1,
   "metadata": {},
   "outputs": [],
   "source": [
    "\n",
    "import numpy as np\n",
    "from sklearn.datasets import make_classification\n",
    "from main import FeatureSelector\n",
    "\n",
    "# Create a synthetic classification dataset\n",
    "\n",
    "X_tr: np.ndarray\n",
    "Y_tr: np.ndarray\n",
    "n_informative: int = 15\n",
    "n_classes: int = 3\n",
    "\n",
    "X_tr, Y_tr = make_classification(\n",
    "    n_samples=300,    \n",
    "    n_features=30,     \n",
    "    n_informative=n_informative,  \n",
    "    n_redundant=5,     \n",
    "    n_classes=n_classes)      \n",
    "\n",
    "\n"
   ]
  },
  {
   "cell_type": "code",
   "execution_count": 2,
   "metadata": {},
   "outputs": [
    {
     "name": "stdout",
     "output_type": "stream",
     "text": [
      "14 out of 15 features were selected[17, 19, 27, 16, 26, 5, 0, 11, 18, 6, 14, 7, 3, 23, 22]\n",
      "14 out of 15 features were selected[17, 4, 19, 11, 16, 27, 6, 5, 14, 7, 26, 0, 10, 12, 21]\n",
      "14 out of 15 features were selected[17, 16, 14, 6, 27, 5, 19, 11, 26, 0, 7, 4, 10, 3, 24]\n",
      "14 out of 15 features were selected[17, 16, 7, 5, 14, 4, 27, 19, 11, 6, 26, 24, 10, 21, 3]\n"
     ]
    }
   ],
   "source": [
    "sele = FeatureSelector(classes_ = [i for i in range(n_classes)],\n",
    "                       max_features = n_informative,\n",
    "                       parallel= True,\n",
    "                       verbose = True)  \n",
    "\n",
    "\n",
    "kernel: str = \"linear\"   # linear is only for mRMR_MS. Other options are \"rbf\" and \"poly\".\n",
    "split_size: float = 0.5  # is only for mRMR_MS.\n",
    "sele.mRMR_MS(X_tr, Y_tr,  kernel, split_size) # compute the mRMR_MS feature selection.\n",
    "print(sele.all_selected_features[-1])\n",
    "\n",
    "sele.mRMR(X_tr, Y_tr)                       # compute the mRMR feature selection.\n",
    "print(sele.all_selected_features[-1])\n",
    "\n",
    "sele.JMI(X_tr, Y_tr)                        # compute the JMI feature selection.\n",
    "print(sele.all_selected_features[-1])\n",
    "\n",
    "sele.relax_mRMR(X_tr, Y_tr)                 # compute the relax_mRMR feature selection.\n",
    "print(sele.all_selected_features[-1])\n",
    "\n"
   ]
  },
  {
   "cell_type": "code",
   "execution_count": 3,
   "metadata": {},
   "outputs": [
    {
     "name": "stdout",
     "output_type": "stream",
     "text": [
      "[0, 1, 2]\n"
     ]
    }
   ],
   "source": [
    "print([i for i in range(n_classes)])"
   ]
  }
 ],
 "metadata": {
  "kernelspec": {
   "display_name": "conformals",
   "language": "python",
   "name": "python3"
  },
  "language_info": {
   "codemirror_mode": {
    "name": "ipython",
    "version": 3
   },
   "file_extension": ".py",
   "mimetype": "text/x-python",
   "name": "python",
   "nbconvert_exporter": "python",
   "pygments_lexer": "ipython3",
   "version": "3.10.13"
  }
 },
 "nbformat": 4,
 "nbformat_minor": 2
}
